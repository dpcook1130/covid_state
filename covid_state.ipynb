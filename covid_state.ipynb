{
 "cells": [
  {
   "cell_type": "code",
   "execution_count": 1,
   "metadata": {},
   "outputs": [],
   "source": [
    "import numpy as np\n",
    "import datetime as dt\n",
    "import pandas as pd\n",
    "import os\n",
    "import subprocess\n",
    "\n",
    "#import plotly.figure_factory as ff\n",
    "#from myPlot import Plot\n",
    "\n",
    "# matplotlib stuff\n",
    "import matplotlib.pyplot as plt\n",
    "import matplotlib.dates as mdates\n",
    "\n",
    "# My external functions\n",
    "from covid_state import seven_day\n",
    "from covid_state import LinePlot\n",
    "from covid_state import BarPlot\n",
    "from covid_state import read_data\n",
    "from covid_state import plot_data\n",
    "from covid_state import get_states_date_directory_xticks"
   ]
  },
  {
   "cell_type": "code",
   "execution_count": 2,
   "metadata": {},
   "outputs": [
    {
     "name": "stdout",
     "output_type": "stream",
     "text": [
      "Updating git repo - /usr/bin/git -C ../NYT-covid-19-data/ pull\n",
      "Getting list of states\n",
      "Getting last data date and calculating x_ticks\n",
      "Make new folder for plots\n",
      "Last date = 2020-06-03\n",
      "Output folder = ./0Plots_2020-06-03\n",
      "[datetime.date(2020, 1, 21), datetime.date(2020, 1, 28), datetime.date(2020, 2, 4), datetime.date(2020, 2, 11), datetime.date(2020, 2, 18), datetime.date(2020, 2, 25), datetime.date(2020, 3, 3), datetime.date(2020, 3, 10), datetime.date(2020, 3, 17), datetime.date(2020, 3, 24), datetime.date(2020, 3, 31), datetime.date(2020, 4, 7), datetime.date(2020, 4, 14), datetime.date(2020, 4, 21), datetime.date(2020, 4, 28), datetime.date(2020, 5, 5), datetime.date(2020, 5, 12), datetime.date(2020, 5, 19), datetime.date(2020, 5, 26), datetime.date(2020, 6, 2)]\n",
      " Connecticut  Guam  Michigan  Alabama  Texas  New Mexico  North Carolina  Kansas  North Dakota  Virgin Islands  Rhode Island  Nebraska  Pennsylvania  Louisiana  Idaho  Georgia  Kentucky  Illinois  Minnesota  Iowa  Florida  Delaware  Wyoming  Montana  Arkansas  Mississippi  Puerto Rico  Missouri  South Dakota  Indiana  Hawaii  Oregon  New Jersey  New York  Alaska  Wisconsin  Nevada  Massachusetts  Northern Mariana Islands  Utah  Tennessee  South Carolina  New Hampshire  Ohio  Colorado  District of Columbia  Maryland  Washington  Arizona  Oklahoma  Maine  Vermont  California  Virginia  West Virginia Done\n"
     ]
    }
   ],
   "source": [
    "# File path of state data cvs file\n",
    "#data_dir = '/Users/dpcook/Desktop/COVID/Data/'\n",
    "repo_dir = '../NYT-covid-19-data/'\n",
    "fp = repo_dir + '/us-states.csv'\n",
    "\n",
    "# Build list of states, date of most recent \n",
    "states, last_date, output_dir, xticks = get_states_date_directory_xticks(fp, repo_dir)\n",
    "\n",
    "#print(states)\n",
    "print('Last date = {}'.format(last_date))\n",
    "print('Output folder = {}'.format(output_dir))\n",
    "print(xticks)\n",
    "\n",
    "#state = 'Michigan'\n",
    "#data_dict = read_data(filename, state)\n",
    "#plot_data(data_dict, state, output_dir, xticks)\n",
    "\n",
    "# Loop over the list of states, read the case and death data for each state, create a png file with plots\n",
    "for state in states:\n",
    "    print(' {} '.format(state), sep='.', end='', flush=True)\n",
    "    data_dict = read_data(fp, state)\n",
    "    plot_data(data_dict, state, output_dir, xticks)\n",
    "    \n",
    "print('Done')"
   ]
  },
  {
   "cell_type": "code",
   "execution_count": null,
   "metadata": {},
   "outputs": [],
   "source": []
  }
 ],
 "metadata": {
  "kernelspec": {
   "display_name": "Python 3",
   "language": "python",
   "name": "python3"
  },
  "language_info": {
   "codemirror_mode": {
    "name": "ipython",
    "version": 3
   },
   "file_extension": ".py",
   "mimetype": "text/x-python",
   "name": "python",
   "nbconvert_exporter": "python",
   "pygments_lexer": "ipython3",
   "version": "3.8.3"
  },
  "latex_envs": {
   "LaTeX_envs_menu_present": true,
   "autoclose": false,
   "autocomplete": true,
   "bibliofile": "biblio.bib",
   "cite_by": "apalike",
   "current_citInitial": 1,
   "eqLabelWithNumbers": true,
   "eqNumInitial": 1,
   "hotkeys": {
    "equation": "Ctrl-E",
    "itemize": "Ctrl-I"
   },
   "labels_anchors": false,
   "latex_user_defs": false,
   "report_style_numbering": false,
   "user_envs_cfg": false
  }
 },
 "nbformat": 4,
 "nbformat_minor": 4
}
